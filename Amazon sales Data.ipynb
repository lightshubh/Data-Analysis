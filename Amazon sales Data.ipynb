{
 "cells": [
  {
   "cell_type": "code",
   "execution_count": 1,
   "id": "1c570e42",
   "metadata": {},
   "outputs": [],
   "source": [
    "import numpy as np\n",
    "import pandas as pd\n",
    "import matplotlib.pyplot as plt\n",
    "import seaborn as sns\n",
    "import os\n",
    "import re"
   ]
  },
  {
   "cell_type": "markdown",
   "id": "cac052cd",
   "metadata": {},
   "source": [
    "dataset link: https://www.kaggle.com/knightbearr/sales-product-data"
   ]
  },
  {
   "cell_type": "code",
   "execution_count": 2,
   "id": "05a2d96c",
   "metadata": {},
   "outputs": [],
   "source": [
    "# importing all the files\n",
    "\n",
    "lst= [file for file in os.listdir(r'C:\\Users\\light\\Downloads\\archive\\sales data')]\n",
    "all_months_data= pd.DataFrame()\n",
    "\n",
    "for file in lst:\n",
    "    df= pd.read_csv('C:\\\\Users\\\\light\\\\Downloads\\\\archive\\\\sales data\\\\'+file)\n",
    "    \n",
    "    all_months_data= pd.concat([all_months_data, df])"
   ]
  },
  {
   "cell_type": "code",
   "execution_count": 3,
   "id": "fdb22da9",
   "metadata": {},
   "outputs": [],
   "source": [
    "df_amazon= all_months_data.copy()"
   ]
  },
  {
   "cell_type": "code",
   "execution_count": 4,
   "id": "13373a66",
   "metadata": {},
   "outputs": [
    {
     "data": {
      "text/plain": [
       "(186850, 6)"
      ]
     },
     "execution_count": 4,
     "metadata": {},
     "output_type": "execute_result"
    }
   ],
   "source": [
    "df_amazon.shape"
   ]
  },
  {
   "cell_type": "code",
   "execution_count": 5,
   "id": "7812f147",
   "metadata": {},
   "outputs": [
    {
     "data": {
      "text/html": [
       "<div><div id=f505f459-404a-4539-b035-14096066642d style=\"display:none; background-color:#9D6CFF; color:white; width:200px; height:30px; padding-left:5px; border-radius:4px; flex-direction:row; justify-content:space-around; align-items:center;\" onmouseover=\"this.style.backgroundColor='#BA9BF8'\" onmouseout=\"this.style.backgroundColor='#9D6CFF'\" onclick=\"window.commands?.execute('create-mitosheet-from-dataframe-output');\">See Full Dataframe in Mito</div> <script> if (window.commands.hasCommand('create-mitosheet-from-dataframe-output')) document.getElementById('f505f459-404a-4539-b035-14096066642d').style.display = 'flex' </script> <table border=\"1\" class=\"dataframe\">\n",
       "  <thead>\n",
       "    <tr style=\"text-align: right;\">\n",
       "      <th></th>\n",
       "      <th>Order ID</th>\n",
       "      <th>Product</th>\n",
       "      <th>Quantity Ordered</th>\n",
       "      <th>Price Each</th>\n",
       "      <th>Order Date</th>\n",
       "      <th>Purchase Address</th>\n",
       "    </tr>\n",
       "  </thead>\n",
       "  <tbody>\n",
       "    <tr>\n",
       "      <th>0</th>\n",
       "      <td>176558</td>\n",
       "      <td>USB-C Charging Cable</td>\n",
       "      <td>2</td>\n",
       "      <td>11.95</td>\n",
       "      <td>04/19/19 08:46</td>\n",
       "      <td>917 1st St, Dallas, TX 75001</td>\n",
       "    </tr>\n",
       "    <tr>\n",
       "      <th>1</th>\n",
       "      <td>176559</td>\n",
       "      <td>Bose SoundSport Headphones</td>\n",
       "      <td>1</td>\n",
       "      <td>99.99</td>\n",
       "      <td>04/07/19 22:30</td>\n",
       "      <td>682 Chestnut St, Boston, MA 02215</td>\n",
       "    </tr>\n",
       "    <tr>\n",
       "      <th>2</th>\n",
       "      <td>176560</td>\n",
       "      <td>Google Phone</td>\n",
       "      <td>1</td>\n",
       "      <td>600</td>\n",
       "      <td>04/12/19 14:38</td>\n",
       "      <td>669 Spruce St, Los Angeles, CA 90001</td>\n",
       "    </tr>\n",
       "    <tr>\n",
       "      <th>3</th>\n",
       "      <td>176560</td>\n",
       "      <td>Wired Headphones</td>\n",
       "      <td>1</td>\n",
       "      <td>11.99</td>\n",
       "      <td>04/12/19 14:38</td>\n",
       "      <td>669 Spruce St, Los Angeles, CA 90001</td>\n",
       "    </tr>\n",
       "    <tr>\n",
       "      <th>4</th>\n",
       "      <td>176561</td>\n",
       "      <td>Wired Headphones</td>\n",
       "      <td>1</td>\n",
       "      <td>11.99</td>\n",
       "      <td>04/30/19 09:27</td>\n",
       "      <td>333 8th St, Los Angeles, CA 90001</td>\n",
       "    </tr>\n",
       "  </tbody>\n",
       "</table></div>"
      ],
      "text/plain": [
       "  Order ID                     Product Quantity Ordered Price Each  \\\n",
       "0   176558        USB-C Charging Cable                2      11.95   \n",
       "1   176559  Bose SoundSport Headphones                1      99.99   \n",
       "2   176560                Google Phone                1        600   \n",
       "3   176560            Wired Headphones                1      11.99   \n",
       "4   176561            Wired Headphones                1      11.99   \n",
       "\n",
       "       Order Date                      Purchase Address  \n",
       "0  04/19/19 08:46          917 1st St, Dallas, TX 75001  \n",
       "1  04/07/19 22:30     682 Chestnut St, Boston, MA 02215  \n",
       "2  04/12/19 14:38  669 Spruce St, Los Angeles, CA 90001  \n",
       "3  04/12/19 14:38  669 Spruce St, Los Angeles, CA 90001  \n",
       "4  04/30/19 09:27     333 8th St, Los Angeles, CA 90001  "
      ]
     },
     "execution_count": 5,
     "metadata": {},
     "output_type": "execute_result"
    }
   ],
   "source": [
    "# dropping empty rows\n",
    "\n",
    "df_amazon_1= df_amazon.dropna(axis= 0, how= 'all').reset_index(drop= True)\n",
    "df_amazon_1.head()"
   ]
  },
  {
   "cell_type": "code",
   "execution_count": 6,
   "id": "406c0609",
   "metadata": {},
   "outputs": [
    {
     "data": {
      "text/plain": [
       "(186305, 6)"
      ]
     },
     "execution_count": 6,
     "metadata": {},
     "output_type": "execute_result"
    }
   ],
   "source": [
    "df_amazon_1.shape"
   ]
  },
  {
   "cell_type": "code",
   "execution_count": 7,
   "id": "5e0191b4",
   "metadata": {},
   "outputs": [
    {
     "data": {
      "text/plain": [
       "Order ID            0\n",
       "Product             0\n",
       "Quantity Ordered    0\n",
       "Price Each          0\n",
       "Order Date          0\n",
       "Purchase Address    0\n",
       "dtype: int64"
      ]
     },
     "execution_count": 7,
     "metadata": {},
     "output_type": "execute_result"
    }
   ],
   "source": [
    "df_amazon_1.isnull().sum()"
   ]
  },
  {
   "cell_type": "code",
   "execution_count": 8,
   "id": "4c4bf5d6",
   "metadata": {},
   "outputs": [
    {
     "data": {
      "text/plain": [
       "Order ID            object\n",
       "Product             object\n",
       "Quantity Ordered    object\n",
       "Price Each          object\n",
       "Order Date          object\n",
       "Purchase Address    object\n",
       "dtype: object"
      ]
     },
     "execution_count": 8,
     "metadata": {},
     "output_type": "execute_result"
    }
   ],
   "source": [
    "df_amazon_1.dtypes"
   ]
  },
  {
   "cell_type": "code",
   "execution_count": 9,
   "id": "d6065856",
   "metadata": {},
   "outputs": [
    {
     "data": {
      "text/plain": [
       "array(['2', '1', '3', '5', 'Quantity Ordered', '4', '7', '6', '8', '9'],\n",
       "      dtype=object)"
      ]
     },
     "execution_count": 9,
     "metadata": {},
     "output_type": "execute_result"
    }
   ],
   "source": [
    "df_amazon_1['Quantity Ordered'].unique()"
   ]
  },
  {
   "cell_type": "code",
   "execution_count": 10,
   "id": "2ce17d67",
   "metadata": {},
   "outputs": [
    {
     "data": {
      "text/html": [
       "<div><div id=f5138df4-dca8-40f1-a0b7-6a146c9fe082 style=\"display:none; background-color:#9D6CFF; color:white; width:200px; height:30px; padding-left:5px; border-radius:4px; flex-direction:row; justify-content:space-around; align-items:center;\" onmouseover=\"this.style.backgroundColor='#BA9BF8'\" onmouseout=\"this.style.backgroundColor='#9D6CFF'\" onclick=\"window.commands?.execute('create-mitosheet-from-dataframe-output');\">See Full Dataframe in Mito</div> <script> if (window.commands.hasCommand('create-mitosheet-from-dataframe-output')) document.getElementById('f5138df4-dca8-40f1-a0b7-6a146c9fe082').style.display = 'flex' </script> <table border=\"1\" class=\"dataframe\">\n",
       "  <thead>\n",
       "    <tr style=\"text-align: right;\">\n",
       "      <th></th>\n",
       "      <th>Order ID</th>\n",
       "      <th>Product</th>\n",
       "      <th>Quantity Ordered</th>\n",
       "      <th>Price Each</th>\n",
       "      <th>Order Date</th>\n",
       "      <th>Purchase Address</th>\n",
       "    </tr>\n",
       "  </thead>\n",
       "  <tbody>\n",
       "    <tr>\n",
       "      <th>0</th>\n",
       "      <td>176558</td>\n",
       "      <td>USB-C Charging Cable</td>\n",
       "      <td>2</td>\n",
       "      <td>11.95</td>\n",
       "      <td>04/19/19 08:46</td>\n",
       "      <td>917 1st St, Dallas, TX 75001</td>\n",
       "    </tr>\n",
       "    <tr>\n",
       "      <th>1</th>\n",
       "      <td>176559</td>\n",
       "      <td>Bose SoundSport Headphones</td>\n",
       "      <td>1</td>\n",
       "      <td>99.99</td>\n",
       "      <td>04/07/19 22:30</td>\n",
       "      <td>682 Chestnut St, Boston, MA 02215</td>\n",
       "    </tr>\n",
       "    <tr>\n",
       "      <th>2</th>\n",
       "      <td>176560</td>\n",
       "      <td>Google Phone</td>\n",
       "      <td>1</td>\n",
       "      <td>600</td>\n",
       "      <td>04/12/19 14:38</td>\n",
       "      <td>669 Spruce St, Los Angeles, CA 90001</td>\n",
       "    </tr>\n",
       "    <tr>\n",
       "      <th>3</th>\n",
       "      <td>176560</td>\n",
       "      <td>Wired Headphones</td>\n",
       "      <td>1</td>\n",
       "      <td>11.99</td>\n",
       "      <td>04/12/19 14:38</td>\n",
       "      <td>669 Spruce St, Los Angeles, CA 90001</td>\n",
       "    </tr>\n",
       "    <tr>\n",
       "      <th>4</th>\n",
       "      <td>176561</td>\n",
       "      <td>Wired Headphones</td>\n",
       "      <td>1</td>\n",
       "      <td>11.99</td>\n",
       "      <td>04/30/19 09:27</td>\n",
       "      <td>333 8th St, Los Angeles, CA 90001</td>\n",
       "    </tr>\n",
       "  </tbody>\n",
       "</table></div>"
      ],
      "text/plain": [
       "  Order ID                     Product Quantity Ordered Price Each  \\\n",
       "0   176558        USB-C Charging Cable                2      11.95   \n",
       "1   176559  Bose SoundSport Headphones                1      99.99   \n",
       "2   176560                Google Phone                1        600   \n",
       "3   176560            Wired Headphones                1      11.99   \n",
       "4   176561            Wired Headphones                1      11.99   \n",
       "\n",
       "       Order Date                      Purchase Address  \n",
       "0  04/19/19 08:46          917 1st St, Dallas, TX 75001  \n",
       "1  04/07/19 22:30     682 Chestnut St, Boston, MA 02215  \n",
       "2  04/12/19 14:38  669 Spruce St, Los Angeles, CA 90001  \n",
       "3  04/12/19 14:38  669 Spruce St, Los Angeles, CA 90001  \n",
       "4  04/30/19 09:27     333 8th St, Los Angeles, CA 90001  "
      ]
     },
     "execution_count": 10,
     "metadata": {},
     "output_type": "execute_result"
    }
   ],
   "source": [
    "# removing this unwanted data:\n",
    "\n",
    "df_amazon_2= df_amazon_1[~df_amazon_1['Quantity Ordered'].isin(['Quantity Ordered'])].reset_index(drop= True)\n",
    "df_amazon_2.head()"
   ]
  },
  {
   "cell_type": "code",
   "execution_count": 11,
   "id": "583b6f53",
   "metadata": {},
   "outputs": [],
   "source": [
    "# changing the datatypes for some columns:\n",
    "\n",
    "df_amazon_2['Quantity Ordered']= df_amazon_2['Quantity Ordered'].astype(int)\n",
    "df_amazon_2['Price Each']= df_amazon_2['Price Each'].astype(float)\n",
    "df_amazon_2['Order Date']= pd.to_datetime(df_amazon_2['Order Date'])"
   ]
  },
  {
   "cell_type": "code",
   "execution_count": 12,
   "id": "e6c65fa7",
   "metadata": {},
   "outputs": [
    {
     "data": {
      "text/plain": [
       "Order ID                    object\n",
       "Product                     object\n",
       "Quantity Ordered             int32\n",
       "Price Each                 float64\n",
       "Order Date          datetime64[ns]\n",
       "Purchase Address            object\n",
       "dtype: object"
      ]
     },
     "execution_count": 12,
     "metadata": {},
     "output_type": "execute_result"
    }
   ],
   "source": [
    "df_amazon_2.dtypes"
   ]
  },
  {
   "cell_type": "code",
   "execution_count": 13,
   "id": "928040d1",
   "metadata": {},
   "outputs": [
    {
     "data": {
      "text/html": [
       "<div><div id=72e0932e-7381-4d5c-a736-28c3c2ed6547 style=\"display:none; background-color:#9D6CFF; color:white; width:200px; height:30px; padding-left:5px; border-radius:4px; flex-direction:row; justify-content:space-around; align-items:center;\" onmouseover=\"this.style.backgroundColor='#BA9BF8'\" onmouseout=\"this.style.backgroundColor='#9D6CFF'\" onclick=\"window.commands?.execute('create-mitosheet-from-dataframe-output');\">See Full Dataframe in Mito</div> <script> if (window.commands.hasCommand('create-mitosheet-from-dataframe-output')) document.getElementById('72e0932e-7381-4d5c-a736-28c3c2ed6547').style.display = 'flex' </script> <table border=\"1\" class=\"dataframe\">\n",
       "  <thead>\n",
       "    <tr style=\"text-align: right;\">\n",
       "      <th></th>\n",
       "      <th>Order ID</th>\n",
       "      <th>Product</th>\n",
       "      <th>Quantity Ordered</th>\n",
       "      <th>Price Each</th>\n",
       "      <th>Order Date</th>\n",
       "      <th>Purchase Address</th>\n",
       "    </tr>\n",
       "  </thead>\n",
       "  <tbody>\n",
       "    <tr>\n",
       "      <th>0</th>\n",
       "      <td>176558</td>\n",
       "      <td>USB-C Charging Cable</td>\n",
       "      <td>2</td>\n",
       "      <td>11.95</td>\n",
       "      <td>2019-04-19 08:46:00</td>\n",
       "      <td>917 1st St, Dallas, TX 75001</td>\n",
       "    </tr>\n",
       "    <tr>\n",
       "      <th>1</th>\n",
       "      <td>176559</td>\n",
       "      <td>Bose SoundSport Headphones</td>\n",
       "      <td>1</td>\n",
       "      <td>99.99</td>\n",
       "      <td>2019-04-07 22:30:00</td>\n",
       "      <td>682 Chestnut St, Boston, MA 02215</td>\n",
       "    </tr>\n",
       "    <tr>\n",
       "      <th>2</th>\n",
       "      <td>176560</td>\n",
       "      <td>Google Phone</td>\n",
       "      <td>1</td>\n",
       "      <td>600.00</td>\n",
       "      <td>2019-04-12 14:38:00</td>\n",
       "      <td>669 Spruce St, Los Angeles, CA 90001</td>\n",
       "    </tr>\n",
       "    <tr>\n",
       "      <th>3</th>\n",
       "      <td>176560</td>\n",
       "      <td>Wired Headphones</td>\n",
       "      <td>1</td>\n",
       "      <td>11.99</td>\n",
       "      <td>2019-04-12 14:38:00</td>\n",
       "      <td>669 Spruce St, Los Angeles, CA 90001</td>\n",
       "    </tr>\n",
       "    <tr>\n",
       "      <th>4</th>\n",
       "      <td>176561</td>\n",
       "      <td>Wired Headphones</td>\n",
       "      <td>1</td>\n",
       "      <td>11.99</td>\n",
       "      <td>2019-04-30 09:27:00</td>\n",
       "      <td>333 8th St, Los Angeles, CA 90001</td>\n",
       "    </tr>\n",
       "  </tbody>\n",
       "</table></div>"
      ],
      "text/plain": [
       "  Order ID                     Product  Quantity Ordered  Price Each  \\\n",
       "0   176558        USB-C Charging Cable                 2       11.95   \n",
       "1   176559  Bose SoundSport Headphones                 1       99.99   \n",
       "2   176560                Google Phone                 1      600.00   \n",
       "3   176560            Wired Headphones                 1       11.99   \n",
       "4   176561            Wired Headphones                 1       11.99   \n",
       "\n",
       "           Order Date                      Purchase Address  \n",
       "0 2019-04-19 08:46:00          917 1st St, Dallas, TX 75001  \n",
       "1 2019-04-07 22:30:00     682 Chestnut St, Boston, MA 02215  \n",
       "2 2019-04-12 14:38:00  669 Spruce St, Los Angeles, CA 90001  \n",
       "3 2019-04-12 14:38:00  669 Spruce St, Los Angeles, CA 90001  \n",
       "4 2019-04-30 09:27:00     333 8th St, Los Angeles, CA 90001  "
      ]
     },
     "execution_count": 13,
     "metadata": {},
     "output_type": "execute_result"
    }
   ],
   "source": [
    "df_amazon_2.head()"
   ]
  },
  {
   "cell_type": "markdown",
   "id": "62fc63f7",
   "metadata": {},
   "source": [
    "### adding some importent columns:"
   ]
  },
  {
   "cell_type": "code",
   "execution_count": 14,
   "id": "13a4af97",
   "metadata": {},
   "outputs": [
    {
     "data": {
      "text/plain": [
       "0                    917 1st St, Dallas, TX 75001\n",
       "1               682 Chestnut St, Boston, MA 02215\n",
       "2            669 Spruce St, Los Angeles, CA 90001\n",
       "3            669 Spruce St, Los Angeles, CA 90001\n",
       "4               333 8th St, Los Angeles, CA 90001\n",
       "                           ...                   \n",
       "185945     840 Highland St, Los Angeles, CA 90001\n",
       "185946    216 Dogwood St, San Francisco, CA 94016\n",
       "185947       220 12th St, San Francisco, CA 94016\n",
       "185948     511 Forest St, San Francisco, CA 94016\n",
       "185949     250 Meadow St, San Francisco, CA 94016\n",
       "Name: Purchase Address, Length: 185950, dtype: object"
      ]
     },
     "execution_count": 14,
     "metadata": {},
     "output_type": "execute_result"
    }
   ],
   "source": [
    "df_amazon_2['Purchase Address']"
   ]
  },
  {
   "cell_type": "code",
   "execution_count": 15,
   "id": "a648ff30",
   "metadata": {},
   "outputs": [],
   "source": [
    "# adding city columns\n",
    "\n",
    "g= (i[-8:-6] for i in df_amazon_2['Purchase Address'])\n",
    "df_amazon_2['City']= df_amazon_2['Purchase Address'].apply(lambda x : f'{x.split(\",\")[1]} ({next(g)})')    "
   ]
  },
  {
   "cell_type": "code",
   "execution_count": 16,
   "id": "931dc56e",
   "metadata": {},
   "outputs": [
    {
     "data": {
      "text/html": [
       "<div><div id=3cc32cec-9c56-489c-8f3f-1c28e119a182 style=\"display:none; background-color:#9D6CFF; color:white; width:200px; height:30px; padding-left:5px; border-radius:4px; flex-direction:row; justify-content:space-around; align-items:center;\" onmouseover=\"this.style.backgroundColor='#BA9BF8'\" onmouseout=\"this.style.backgroundColor='#9D6CFF'\" onclick=\"window.commands?.execute('create-mitosheet-from-dataframe-output');\">See Full Dataframe in Mito</div> <script> if (window.commands.hasCommand('create-mitosheet-from-dataframe-output')) document.getElementById('3cc32cec-9c56-489c-8f3f-1c28e119a182').style.display = 'flex' </script> <table border=\"1\" class=\"dataframe\">\n",
       "  <thead>\n",
       "    <tr style=\"text-align: right;\">\n",
       "      <th></th>\n",
       "      <th>Order ID</th>\n",
       "      <th>Product</th>\n",
       "      <th>Quantity Ordered</th>\n",
       "      <th>Price Each</th>\n",
       "      <th>Order Date</th>\n",
       "      <th>Purchase Address</th>\n",
       "      <th>City</th>\n",
       "    </tr>\n",
       "  </thead>\n",
       "  <tbody>\n",
       "    <tr>\n",
       "      <th>0</th>\n",
       "      <td>176558</td>\n",
       "      <td>USB-C Charging Cable</td>\n",
       "      <td>2</td>\n",
       "      <td>11.95</td>\n",
       "      <td>2019-04-19 08:46:00</td>\n",
       "      <td>917 1st St, Dallas, TX 75001</td>\n",
       "      <td>Dallas (TX)</td>\n",
       "    </tr>\n",
       "    <tr>\n",
       "      <th>1</th>\n",
       "      <td>176559</td>\n",
       "      <td>Bose SoundSport Headphones</td>\n",
       "      <td>1</td>\n",
       "      <td>99.99</td>\n",
       "      <td>2019-04-07 22:30:00</td>\n",
       "      <td>682 Chestnut St, Boston, MA 02215</td>\n",
       "      <td>Boston (MA)</td>\n",
       "    </tr>\n",
       "    <tr>\n",
       "      <th>2</th>\n",
       "      <td>176560</td>\n",
       "      <td>Google Phone</td>\n",
       "      <td>1</td>\n",
       "      <td>600.00</td>\n",
       "      <td>2019-04-12 14:38:00</td>\n",
       "      <td>669 Spruce St, Los Angeles, CA 90001</td>\n",
       "      <td>Los Angeles (CA)</td>\n",
       "    </tr>\n",
       "    <tr>\n",
       "      <th>3</th>\n",
       "      <td>176560</td>\n",
       "      <td>Wired Headphones</td>\n",
       "      <td>1</td>\n",
       "      <td>11.99</td>\n",
       "      <td>2019-04-12 14:38:00</td>\n",
       "      <td>669 Spruce St, Los Angeles, CA 90001</td>\n",
       "      <td>Los Angeles (CA)</td>\n",
       "    </tr>\n",
       "    <tr>\n",
       "      <th>4</th>\n",
       "      <td>176561</td>\n",
       "      <td>Wired Headphones</td>\n",
       "      <td>1</td>\n",
       "      <td>11.99</td>\n",
       "      <td>2019-04-30 09:27:00</td>\n",
       "      <td>333 8th St, Los Angeles, CA 90001</td>\n",
       "      <td>Los Angeles (CA)</td>\n",
       "    </tr>\n",
       "  </tbody>\n",
       "</table></div>"
      ],
      "text/plain": [
       "  Order ID                     Product  Quantity Ordered  Price Each  \\\n",
       "0   176558        USB-C Charging Cable                 2       11.95   \n",
       "1   176559  Bose SoundSport Headphones                 1       99.99   \n",
       "2   176560                Google Phone                 1      600.00   \n",
       "3   176560            Wired Headphones                 1       11.99   \n",
       "4   176561            Wired Headphones                 1       11.99   \n",
       "\n",
       "           Order Date                      Purchase Address               City  \n",
       "0 2019-04-19 08:46:00          917 1st St, Dallas, TX 75001        Dallas (TX)  \n",
       "1 2019-04-07 22:30:00     682 Chestnut St, Boston, MA 02215        Boston (MA)  \n",
       "2 2019-04-12 14:38:00  669 Spruce St, Los Angeles, CA 90001   Los Angeles (CA)  \n",
       "3 2019-04-12 14:38:00  669 Spruce St, Los Angeles, CA 90001   Los Angeles (CA)  \n",
       "4 2019-04-30 09:27:00     333 8th St, Los Angeles, CA 90001   Los Angeles (CA)  "
      ]
     },
     "execution_count": 16,
     "metadata": {},
     "output_type": "execute_result"
    }
   ],
   "source": [
    "df_amazon_2.head()"
   ]
  },
  {
   "cell_type": "code",
   "execution_count": 17,
   "id": "8e87882e",
   "metadata": {},
   "outputs": [],
   "source": [
    "# adding month, day, hour, year columns\n",
    "\n",
    "df_amazon_2.insert(loc= 5, column= 'Day', value= df_amazon_2['Order Date'].dt.day)\n",
    "df_amazon_2.insert(loc= 6, column= 'Month', value= df_amazon_2['Order Date'].dt.month)\n",
    "df_amazon_2.insert(loc= 7, column= 'Hour', value= df_amazon_2['Order Date'].dt.hour)"
   ]
  },
  {
   "cell_type": "code",
   "execution_count": 18,
   "id": "0fe08305",
   "metadata": {},
   "outputs": [],
   "source": [
    "df_amazon_2.insert(loc= 8, column= 'Year', value= df_amazon_2['Order Date'].dt.year)"
   ]
  },
  {
   "cell_type": "code",
   "execution_count": 19,
   "id": "fda4331d",
   "metadata": {},
   "outputs": [
    {
     "data": {
      "text/html": [
       "<div><div id=7efeda49-7d3e-4576-852d-c1420681cb0c style=\"display:none; background-color:#9D6CFF; color:white; width:200px; height:30px; padding-left:5px; border-radius:4px; flex-direction:row; justify-content:space-around; align-items:center;\" onmouseover=\"this.style.backgroundColor='#BA9BF8'\" onmouseout=\"this.style.backgroundColor='#9D6CFF'\" onclick=\"window.commands?.execute('create-mitosheet-from-dataframe-output');\">See Full Dataframe in Mito</div> <script> if (window.commands.hasCommand('create-mitosheet-from-dataframe-output')) document.getElementById('7efeda49-7d3e-4576-852d-c1420681cb0c').style.display = 'flex' </script> <table border=\"1\" class=\"dataframe\">\n",
       "  <thead>\n",
       "    <tr style=\"text-align: right;\">\n",
       "      <th></th>\n",
       "      <th>Order ID</th>\n",
       "      <th>Product</th>\n",
       "      <th>Quantity Ordered</th>\n",
       "      <th>Price Each</th>\n",
       "      <th>Order Date</th>\n",
       "      <th>Day</th>\n",
       "      <th>Month</th>\n",
       "      <th>Hour</th>\n",
       "      <th>Year</th>\n",
       "      <th>Purchase Address</th>\n",
       "      <th>City</th>\n",
       "    </tr>\n",
       "  </thead>\n",
       "  <tbody>\n",
       "    <tr>\n",
       "      <th>0</th>\n",
       "      <td>176558</td>\n",
       "      <td>USB-C Charging Cable</td>\n",
       "      <td>2</td>\n",
       "      <td>11.95</td>\n",
       "      <td>2019-04-19 08:46:00</td>\n",
       "      <td>19</td>\n",
       "      <td>4</td>\n",
       "      <td>8</td>\n",
       "      <td>2019</td>\n",
       "      <td>917 1st St, Dallas, TX 75001</td>\n",
       "      <td>Dallas (TX)</td>\n",
       "    </tr>\n",
       "    <tr>\n",
       "      <th>1</th>\n",
       "      <td>176559</td>\n",
       "      <td>Bose SoundSport Headphones</td>\n",
       "      <td>1</td>\n",
       "      <td>99.99</td>\n",
       "      <td>2019-04-07 22:30:00</td>\n",
       "      <td>7</td>\n",
       "      <td>4</td>\n",
       "      <td>22</td>\n",
       "      <td>2019</td>\n",
       "      <td>682 Chestnut St, Boston, MA 02215</td>\n",
       "      <td>Boston (MA)</td>\n",
       "    </tr>\n",
       "    <tr>\n",
       "      <th>2</th>\n",
       "      <td>176560</td>\n",
       "      <td>Google Phone</td>\n",
       "      <td>1</td>\n",
       "      <td>600.00</td>\n",
       "      <td>2019-04-12 14:38:00</td>\n",
       "      <td>12</td>\n",
       "      <td>4</td>\n",
       "      <td>14</td>\n",
       "      <td>2019</td>\n",
       "      <td>669 Spruce St, Los Angeles, CA 90001</td>\n",
       "      <td>Los Angeles (CA)</td>\n",
       "    </tr>\n",
       "    <tr>\n",
       "      <th>3</th>\n",
       "      <td>176560</td>\n",
       "      <td>Wired Headphones</td>\n",
       "      <td>1</td>\n",
       "      <td>11.99</td>\n",
       "      <td>2019-04-12 14:38:00</td>\n",
       "      <td>12</td>\n",
       "      <td>4</td>\n",
       "      <td>14</td>\n",
       "      <td>2019</td>\n",
       "      <td>669 Spruce St, Los Angeles, CA 90001</td>\n",
       "      <td>Los Angeles (CA)</td>\n",
       "    </tr>\n",
       "    <tr>\n",
       "      <th>4</th>\n",
       "      <td>176561</td>\n",
       "      <td>Wired Headphones</td>\n",
       "      <td>1</td>\n",
       "      <td>11.99</td>\n",
       "      <td>2019-04-30 09:27:00</td>\n",
       "      <td>30</td>\n",
       "      <td>4</td>\n",
       "      <td>9</td>\n",
       "      <td>2019</td>\n",
       "      <td>333 8th St, Los Angeles, CA 90001</td>\n",
       "      <td>Los Angeles (CA)</td>\n",
       "    </tr>\n",
       "  </tbody>\n",
       "</table></div>"
      ],
      "text/plain": [
       "  Order ID                     Product  Quantity Ordered  Price Each  \\\n",
       "0   176558        USB-C Charging Cable                 2       11.95   \n",
       "1   176559  Bose SoundSport Headphones                 1       99.99   \n",
       "2   176560                Google Phone                 1      600.00   \n",
       "3   176560            Wired Headphones                 1       11.99   \n",
       "4   176561            Wired Headphones                 1       11.99   \n",
       "\n",
       "           Order Date  Day  Month  Hour  Year  \\\n",
       "0 2019-04-19 08:46:00   19      4     8  2019   \n",
       "1 2019-04-07 22:30:00    7      4    22  2019   \n",
       "2 2019-04-12 14:38:00   12      4    14  2019   \n",
       "3 2019-04-12 14:38:00   12      4    14  2019   \n",
       "4 2019-04-30 09:27:00   30      4     9  2019   \n",
       "\n",
       "                       Purchase Address               City  \n",
       "0          917 1st St, Dallas, TX 75001        Dallas (TX)  \n",
       "1     682 Chestnut St, Boston, MA 02215        Boston (MA)  \n",
       "2  669 Spruce St, Los Angeles, CA 90001   Los Angeles (CA)  \n",
       "3  669 Spruce St, Los Angeles, CA 90001   Los Angeles (CA)  \n",
       "4     333 8th St, Los Angeles, CA 90001   Los Angeles (CA)  "
      ]
     },
     "execution_count": 19,
     "metadata": {},
     "output_type": "execute_result"
    }
   ],
   "source": [
    "df_amazon_2.head()"
   ]
  },
  {
   "cell_type": "markdown",
   "id": "4dadee4e",
   "metadata": {},
   "source": [
    "### Finding some imp results:"
   ]
  },
  {
   "cell_type": "markdown",
   "id": "abf9053b",
   "metadata": {},
   "source": [
    "##### What was the best Year for sales? How much was earned that Year?"
   ]
  },
  {
   "cell_type": "code",
   "execution_count": 20,
   "id": "8ce23ca4",
   "metadata": {},
   "outputs": [
    {
     "data": {
      "text/plain": [
       "Year\n",
       "2019    34280627.28\n",
       "2020        8503.40\n",
       "Name: Price Each, dtype: float64"
      ]
     },
     "execution_count": 20,
     "metadata": {},
     "output_type": "execute_result"
    }
   ],
   "source": [
    "df_amazon_2.groupby('Year')['Price Each'].sum()\n",
    "\n",
    "# the time for this data is available, 2019 is the best year, but we can not say anything for 2020, because this dataset does not contain all the data related to 2020."
   ]
  },
  {
   "cell_type": "markdown",
   "id": "58f679b4",
   "metadata": {},
   "source": [
    "#### What was the best month for sales? How much was earned that month?"
   ]
  },
  {
   "cell_type": "code",
   "execution_count": 21,
   "id": "f64418a6",
   "metadata": {},
   "outputs": [
    {
     "data": {
      "text/plain": [
       "Month\n",
       "12    4588415.41\n",
       "10    3715554.83\n",
       "4     3367671.02\n",
       "11    3180600.68\n",
       "5     3135125.13\n",
       "3     2791207.83\n",
       "7     2632539.56\n",
       "6     2562025.61\n",
       "8     2230345.42\n",
       "2     2188884.72\n",
       "9     2084992.09\n",
       "1     1803264.98\n",
       "Name: Price Each, dtype: float64"
      ]
     },
     "execution_count": 21,
     "metadata": {},
     "output_type": "execute_result"
    }
   ],
   "source": [
    "# checking this only for 2019\n",
    "\n",
    "best_mon_2019= df_amazon_2[df_amazon_2['Year'].isin([2019])]\n",
    "\n",
    "best_mon_2019_TEarned= best_mon_2019.groupby('Month')['Price Each'].sum().sort_values(ascending= False)\n",
    "best_mon_2019_TEarned\n",
    "\n",
    "# December is the best month for sale, may be because of Christmas. And, the total is $ 4588415.41."
   ]
  },
  {
   "cell_type": "code",
   "execution_count": 22,
   "id": "b37907e6",
   "metadata": {},
   "outputs": [
    {
     "data": {
      "image/png": "[encoded data removed]",
      "text/plain": [
       "<Figure size 720x360 with 1 Axes>"
      ]
     },
     "metadata": {
      "needs_background": "light"
     },
     "output_type": "display_data"
    }
   ],
   "source": [
    "# visualising this result to compare\n",
    "\n",
    "best_mon_2019_TEarned.plot(kind= 'bar', figsize= (10, 5))\n",
    "plt.show()\n",
    "\n",
    "# and january is the worst month for sale"
   ]
  },
  {
   "cell_type": "markdown",
   "id": "c2add51e",
   "metadata": {},
   "source": [
    "#### What City had the highest number of sales?"
   ]
  },
  {
   "cell_type": "code",
   "execution_count": 23,
   "id": "1d453196",
   "metadata": {},
   "outputs": [
    {
     "data": {
      "text/plain": [
       "City\n",
       " Atlanta (GA)          2779908.20\n",
       " Austin (TX)           1809873.61\n",
       " Boston (MA)           3637409.77\n",
       " Dallas (TX)           2752627.82\n",
       " Los Angeles (CA)      5421435.23\n",
       " New York City (NY)    4635370.83\n",
       " Portland (ME)          447189.25\n",
       " Portland (OR)         1860558.22\n",
       " San Francisco (CA)    8211461.74\n",
       " Seattle (WA)          2733296.01\n",
       "Name: Price Each, dtype: float64"
      ]
     },
     "execution_count": 23,
     "metadata": {},
     "output_type": "execute_result"
    }
   ],
   "source": [
    "df_amazon_2.groupby('City')['Price Each'].sum()"
   ]
  },
  {
   "cell_type": "code",
   "execution_count": 24,
   "id": "b45fc5b7",
   "metadata": {},
   "outputs": [
    {
     "data": {
      "image/png": "[encoded data removed]",
      "text/plain": [
       "<Figure size 1008x432 with 1 Axes>"
      ]
     },
     "metadata": {
      "needs_background": "light"
     },
     "output_type": "display_data"
    }
   ],
   "source": [
    "# visualise\n",
    "\n",
    "df_amazon_2.groupby('City')['Price Each'].sum().plot(kind= 'bar', figsize= (14, 6))\n",
    "plt.xticks(rotation= 40)\n",
    "plt.show()\n",
    "\n",
    "# so 'San Francisco (CA)' is best and 'Portland (ME)' is the worst city for sale"
   ]
  },
  {
   "cell_type": "markdown",
   "id": "89533d46",
   "metadata": {},
   "source": [
    "#### What time should we display adverstisement to maximize likelihood of customer's buying product?"
   ]
  },
  {
   "cell_type": "code",
   "execution_count": 25,
   "id": "bb7c2b66",
   "metadata": {},
   "outputs": [
    {
     "data": {
      "text/plain": [
       "Hour\n",
       "0      709296.70\n",
       "1      458490.00\n",
       "2      233833.64\n",
       "3      144726.42\n",
       "4      162058.18\n",
       "5      229621.21\n",
       "6      445000.11\n",
       "7      740568.11\n",
       "8     1185970.62\n",
       "9     1628498.49\n",
       "10    1932665.62\n",
       "11    2288855.18\n",
       "12    2299876.68\n",
       "13    2139743.86\n",
       "14    2072194.77\n",
       "15    1931174.99\n",
       "16    1892454.54\n",
       "17    2116777.02\n",
       "18    2207696.93\n",
       "19    2398588.31\n",
       "20    2268185.16\n",
       "21    2030763.83\n",
       "22    1599464.44\n",
       "23    1172625.87\n",
       "Name: Price Each, dtype: float64"
      ]
     },
     "execution_count": 25,
     "metadata": {},
     "output_type": "execute_result"
    }
   ],
   "source": [
    "df_amazon_2.groupby('Hour')['Price Each'].sum()"
   ]
  },
  {
   "cell_type": "code",
   "execution_count": 26,
   "id": "4bfb8170",
   "metadata": {},
   "outputs": [
    {
     "data": {
      "image/png": "[encoded data removed]",
      "text/plain": [
       "<Figure size 1008x360 with 1 Axes>"
      ]
     },
     "metadata": {
      "needs_background": "light"
     },
     "output_type": "display_data"
    }
   ],
   "source": [
    "# visualise\n",
    "df_amazon_2.groupby('Hour')['Price Each'].sum().plot(kind= 'bar', figsize= (14, 5))\n",
    "plt.show()\n",
    "\n",
    "# 7 pm is bestest\n",
    "# all the hour except hour 0, 1, 2, 3, 4, 5, 6, 7, 8 and 23 are best for sale.\n",
    "# so we can say that morning and late night are not good for sale.\n",
    "# means from 9AM to 11PM are the best hour to show adds."
   ]
  },
  {
   "cell_type": "code",
   "execution_count": 27,
   "id": "1dee5358",
   "metadata": {},
   "outputs": [
    {
     "data": {
      "text/plain": [
       "Month  Hour\n",
       "1      0        42356.09\n",
       "       1        24551.73\n",
       "       2        17388.61\n",
       "       3         6747.82\n",
       "       4         6402.50\n",
       "                 ...    \n",
       "12     19      321457.18\n",
       "       20      319319.76\n",
       "       21      253996.83\n",
       "       22      211311.26\n",
       "       23      157237.42\n",
       "Name: Price Each, Length: 288, dtype: float64"
      ]
     },
     "execution_count": 27,
     "metadata": {},
     "output_type": "execute_result"
    }
   ],
   "source": [
    "# checking the best sales time with month and hour\n",
    "\n",
    "df_amazon_2.groupby(['Month', 'Hour'])['Price Each'].sum()"
   ]
  },
  {
   "cell_type": "code",
   "execution_count": 28,
   "id": "5e3bd287",
   "metadata": {},
   "outputs": [],
   "source": [
    "def month_data(month):\n",
    "    return df_amazon_2[(df_amazon_2['Month'] == month) & (df_amazon_2['Year'] == 2019)].groupby(['Month', 'Hour'])['Price Each'].sum()"
   ]
  },
  {
   "cell_type": "code",
   "execution_count": 39,
   "id": "a7a08524",
   "metadata": {},
   "outputs": [
    {
     "data": {
      "image/png": "[encoded data removed]",
      "text/plain": [
       "<Figure size 2160x1440 with 12 Axes>"
      ]
     },
     "metadata": {
      "needs_background": "light"
     },
     "output_type": "display_data"
    }
   ],
   "source": [
    "fig, ax= plt.subplots(4, 3, figsize= (30, 20), sharey= True)\n",
    "\n",
    "\n",
    "ax[0,0].bar(x= [i[1] for i in month_data(1).index], height= list(month_data(1).values))\n",
    "ax[0,0].set_title('Jan', size= 25)\n",
    "\n",
    "\n",
    "ax[0,1].bar(x= [i[1] for i in month_data(2).index], height= list(month_data(2).values))\n",
    "ax[0,1].set_title('Feb', size= 25)\n",
    "\n",
    "ax[0,2].bar(x= [i[1] for i in month_data(3).index], height= list(month_data(3).values))\n",
    "ax[0,2].set_title('Mar', size= 25)\n",
    "\n",
    "ax[1,0].bar(x= [i[1] for i in month_data(4).index], height= list(month_data(4).values))\n",
    "ax[1,0].set_title('Apr', size= 25)\n",
    "\n",
    "\n",
    "ax[1,1].bar(x= [i[1] for i in month_data(5).index], height= list(month_data(5).values))\n",
    "ax[1,1].set_title('May', size= 25)\n",
    "\n",
    "ax[1,2].bar(x= [i[1] for i in month_data(6).index], height= list(month_data(6).values))\n",
    "ax[1,2].set_title('Jun', size= 25)\n",
    "\n",
    "ax[2,0].bar(x= [i[1] for i in month_data(7).index], height= list(month_data(7).values))\n",
    "ax[2,0].set_title('Jul', size= 25)\n",
    "\n",
    "ax[2,1].bar(x= [i[1] for i in month_data(8).index], height= list(month_data(8).values))\n",
    "ax[2,1].set_title('Aug', size= 25)\n",
    "\n",
    "ax[2,2].bar(x= [i[1] for i in month_data(9).index], height= list(month_data(9).values))\n",
    "ax[2,2].set_title('Sep', size= 25)\n",
    "\n",
    "\n",
    "ax[3,0].bar(x= [i[1] for i in month_data(10).index], height= list(month_data(10).values))\n",
    "ax[3,0].set_title('Oct', size= 25)\n",
    "\n",
    "\n",
    "ax[3,1].bar(x= [i[1] for i in month_data(11).index], height= list(month_data(11).values))\n",
    "ax[3,1].set_title('Nov', size= 25)\n",
    "\n",
    "ax[3,2].bar(x= [i[1] for i in month_data(12).index], height= list(month_data(12).values))\n",
    "ax[3,2].set_title('Dec', size= 25)\n",
    "\n",
    "\n",
    "plt.show()"
   ]
  },
  {
   "cell_type": "markdown",
   "id": "12c0483c",
   "metadata": {},
   "source": [
    "#### What products are most often sold together?"
   ]
  },
  {
   "cell_type": "code",
   "execution_count": 73,
   "id": "faa14fbe",
   "metadata": {},
   "outputs": [],
   "source": [
    "product_group= df_amazon_2.groupby('Order ID')['Product'].unique()"
   ]
  },
  {
   "cell_type": "code",
   "execution_count": 82,
   "id": "262abc98",
   "metadata": {},
   "outputs": [
    {
     "data": {
      "text/html": [
       "<div><div id=33d80196-4dfc-4076-9c32-bc27bb74b3b8 style=\"display:none; background-color:#9D6CFF; color:white; width:200px; height:30px; padding-left:5px; border-radius:4px; flex-direction:row; justify-content:space-around; align-items:center;\" onmouseover=\"this.style.backgroundColor='#BA9BF8'\" onmouseout=\"this.style.backgroundColor='#9D6CFF'\" onclick=\"window.commands?.execute('create-mitosheet-from-dataframe-output');\">See Full Dataframe in Mito</div> <script> if (window.commands.hasCommand('create-mitosheet-from-dataframe-output')) document.getElementById('33d80196-4dfc-4076-9c32-bc27bb74b3b8').style.display = 'flex' </script> <table border=\"1\" class=\"dataframe\">\n",
       "  <thead>\n",
       "    <tr style=\"text-align: right;\">\n",
       "      <th></th>\n",
       "      <th>Product</th>\n",
       "    </tr>\n",
       "    <tr>\n",
       "      <th>Order ID</th>\n",
       "      <th></th>\n",
       "    </tr>\n",
       "  </thead>\n",
       "  <tbody>\n",
       "    <tr>\n",
       "      <th>141275</th>\n",
       "      <td>[USB-C Charging Cable, Wired Headphones]</td>\n",
       "    </tr>\n",
       "    <tr>\n",
       "      <th>141290</th>\n",
       "      <td>[Apple Airpods Headphones, AA Batteries (4-pack)]</td>\n",
       "    </tr>\n",
       "    <tr>\n",
       "      <th>141365</th>\n",
       "      <td>[Vareebadd Phone, Wired Headphones]</td>\n",
       "    </tr>\n",
       "    <tr>\n",
       "      <th>141384</th>\n",
       "      <td>[Google Phone, USB-C Charging Cable]</td>\n",
       "    </tr>\n",
       "    <tr>\n",
       "      <th>141450</th>\n",
       "      <td>[Google Phone, Bose SoundSport Headphones]</td>\n",
       "    </tr>\n",
       "  </tbody>\n",
       "</table></div>"
      ],
      "text/plain": [
       "                                                    Product\n",
       "Order ID                                                   \n",
       "141275             [USB-C Charging Cable, Wired Headphones]\n",
       "141290    [Apple Airpods Headphones, AA Batteries (4-pack)]\n",
       "141365                  [Vareebadd Phone, Wired Headphones]\n",
       "141384                 [Google Phone, USB-C Charging Cable]\n",
       "141450           [Google Phone, Bose SoundSport Headphones]"
      ]
     },
     "execution_count": 82,
     "metadata": {},
     "output_type": "execute_result"
    }
   ],
   "source": [
    "# items which were bought together\n",
    "bought_product= product_group[product_group.apply(lambda x : len(x) >1 )]\n",
    "bought_product= pd.DataFrame(bought_product)\n",
    "bought_product.head()"
   ]
  },
  {
   "cell_type": "code",
   "execution_count": 114,
   "id": "edfcd6ba",
   "metadata": {
    "scrolled": true
   },
   "outputs": [],
   "source": [
    "bought_product['Number of Product Bought']= [len(i)  for i in bought_product['Product']]"
   ]
  },
  {
   "cell_type": "code",
   "execution_count": 125,
   "id": "b105335b",
   "metadata": {},
   "outputs": [
    {
     "data": {
      "text/html": [
       "<div><div id=65a7ea41-bd82-4a2d-a284-d68883d18574 style=\"display:none; background-color:#9D6CFF; color:white; width:200px; height:30px; padding-left:5px; border-radius:4px; flex-direction:row; justify-content:space-around; align-items:center;\" onmouseover=\"this.style.backgroundColor='#BA9BF8'\" onmouseout=\"this.style.backgroundColor='#9D6CFF'\" onclick=\"window.commands?.execute('create-mitosheet-from-dataframe-output');\">See Full Dataframe in Mito</div> <script> if (window.commands.hasCommand('create-mitosheet-from-dataframe-output')) document.getElementById('65a7ea41-bd82-4a2d-a284-d68883d18574').style.display = 'flex' </script> <table border=\"1\" class=\"dataframe\">\n",
       "  <thead>\n",
       "    <tr style=\"text-align: right;\">\n",
       "      <th></th>\n",
       "      <th>Product</th>\n",
       "      <th>Number of Product Bought</th>\n",
       "    </tr>\n",
       "    <tr>\n",
       "      <th>Order ID</th>\n",
       "      <th></th>\n",
       "      <th></th>\n",
       "    </tr>\n",
       "  </thead>\n",
       "  <tbody>\n",
       "    <tr>\n",
       "      <th>141550</th>\n",
       "      <td>[iPhone, Apple Airpods Headphones, Wired Headphones]</td>\n",
       "      <td>3</td>\n",
       "    </tr>\n",
       "    <tr>\n",
       "      <th>141900</th>\n",
       "      <td>[Vareebadd Phone, USB-C Charging Cable, Wired Headphones]</td>\n",
       "      <td>3</td>\n",
       "    </tr>\n",
       "    <tr>\n",
       "      <th>142128</th>\n",
       "      <td>[Google Phone, Bose SoundSport Headphones, Wired Headphones]</td>\n",
       "      <td>3</td>\n",
       "    </tr>\n",
       "    <tr>\n",
       "      <th>142287</th>\n",
       "      <td>[Google Phone, USB-C Charging Cable, Wired Headphones]</td>\n",
       "      <td>3</td>\n",
       "    </tr>\n",
       "    <tr>\n",
       "      <th>143006</th>\n",
       "      <td>[Google Phone, Bose SoundSport Headphones, Wired Headphones]</td>\n",
       "      <td>3</td>\n",
       "    </tr>\n",
       "  </tbody>\n",
       "</table></div>"
      ],
      "text/plain": [
       "                                                    Product  \\\n",
       "Order ID                                                      \n",
       "141550    [iPhone, Apple Airpods Headphones, Wired Headp...   \n",
       "141900    [Vareebadd Phone, USB-C Charging Cable, Wired ...   \n",
       "142128    [Google Phone, Bose SoundSport Headphones, Wir...   \n",
       "142287    [Google Phone, USB-C Charging Cable, Wired Hea...   \n",
       "143006    [Google Phone, Bose SoundSport Headphones, Wir...   \n",
       "\n",
       "          Number of Product Bought  \n",
       "Order ID                            \n",
       "141550                           3  \n",
       "141900                           3  \n",
       "142128                           3  \n",
       "142287                           3  \n",
       "143006                           3  "
      ]
     },
     "execution_count": 125,
     "metadata": {},
     "output_type": "execute_result"
    }
   ],
   "source": [
    "# 3 product which sold together\n",
    "bought_product[bought_product['Number of Product Bought'] > 2].head()"
   ]
  },
  {
   "cell_type": "code",
   "execution_count": 126,
   "id": "6af44dfa",
   "metadata": {},
   "outputs": [
    {
     "data": {
      "text/plain": [
       "5"
      ]
     },
     "execution_count": 126,
     "metadata": {},
     "output_type": "execute_result"
    }
   ],
   "source": [
    "# max number of product sold together\n",
    "\n",
    "bought_product['Number of Product Bought'].max()"
   ]
  },
  {
   "cell_type": "code",
   "execution_count": 128,
   "id": "1cd19152",
   "metadata": {},
   "outputs": [
    {
     "data": {
      "text/html": [
       "<div><div id=272c2b4d-fc49-4267-b2a7-cd3ccde46c41 style=\"display:none; background-color:#9D6CFF; color:white; width:200px; height:30px; padding-left:5px; border-radius:4px; flex-direction:row; justify-content:space-around; align-items:center;\" onmouseover=\"this.style.backgroundColor='#BA9BF8'\" onmouseout=\"this.style.backgroundColor='#9D6CFF'\" onclick=\"window.commands?.execute('create-mitosheet-from-dataframe-output');\">See Full Dataframe in Mito</div> <script> if (window.commands.hasCommand('create-mitosheet-from-dataframe-output')) document.getElementById('272c2b4d-fc49-4267-b2a7-cd3ccde46c41').style.display = 'flex' </script> <table border=\"1\" class=\"dataframe\">\n",
       "  <thead>\n",
       "    <tr style=\"text-align: right;\">\n",
       "      <th></th>\n",
       "      <th>Product</th>\n",
       "      <th>Number of Product Bought</th>\n",
       "    </tr>\n",
       "    <tr>\n",
       "      <th>Order ID</th>\n",
       "      <th></th>\n",
       "      <th></th>\n",
       "    </tr>\n",
       "  </thead>\n",
       "  <tbody>\n",
       "    <tr>\n",
       "      <th>160873</th>\n",
       "      <td>[iPhone, Lightning Charging Cable, Apple Airpods Headphones, Wired Headphones, Google Phone]</td>\n",
       "      <td>5</td>\n",
       "    </tr>\n",
       "  </tbody>\n",
       "</table></div>"
      ],
      "text/plain": [
       "                                                    Product  \\\n",
       "Order ID                                                      \n",
       "160873    [iPhone, Lightning Charging Cable, Apple Airpo...   \n",
       "\n",
       "          Number of Product Bought  \n",
       "Order ID                            \n",
       "160873                           5  "
      ]
     },
     "execution_count": 128,
     "metadata": {},
     "output_type": "execute_result"
    }
   ],
   "source": [
    "# max number of product which sold together\n",
    "\n",
    "bought_product[bought_product['Number of Product Bought'] == bought_product['Number of Product Bought'].max()]\n",
    "\n",
    "# the max number of product bought is 5 and these products are: [iPhone, Lightning Charging Cable, Apple Airpods Headphones, Wired Headphones, Google Phone]\n"
   ]
  },
  {
   "cell_type": "code",
   "execution_count": 129,
   "id": "e0182be3",
   "metadata": {},
   "outputs": [
    {
     "data": {
      "text/html": [
       "<div><div id=14ab225b-4f63-4840-8846-b17c12c277dc style=\"display:none; background-color:#9D6CFF; color:white; width:200px; height:30px; padding-left:5px; border-radius:4px; flex-direction:row; justify-content:space-around; align-items:center;\" onmouseover=\"this.style.backgroundColor='#BA9BF8'\" onmouseout=\"this.style.backgroundColor='#9D6CFF'\" onclick=\"window.commands?.execute('create-mitosheet-from-dataframe-output');\">See Full Dataframe in Mito</div> <script> if (window.commands.hasCommand('create-mitosheet-from-dataframe-output')) document.getElementById('14ab225b-4f63-4840-8846-b17c12c277dc').style.display = 'flex' </script> <table border=\"1\" class=\"dataframe\">\n",
       "  <thead>\n",
       "    <tr style=\"text-align: right;\">\n",
       "      <th></th>\n",
       "      <th>Product</th>\n",
       "      <th>Number of Product Bought</th>\n",
       "    </tr>\n",
       "    <tr>\n",
       "      <th>Order ID</th>\n",
       "      <th></th>\n",
       "      <th></th>\n",
       "    </tr>\n",
       "  </thead>\n",
       "  <tbody>\n",
       "    <tr>\n",
       "      <th>165665</th>\n",
       "      <td>[Google Phone, USB-C Charging Cable, Wired Headphones, AA Batteries (4-pack)]</td>\n",
       "      <td>4</td>\n",
       "    </tr>\n",
       "    <tr>\n",
       "      <th>193511</th>\n",
       "      <td>[Google Phone, USB-C Charging Cable, Bose SoundSport Headphones, Wired Headphones]</td>\n",
       "      <td>4</td>\n",
       "    </tr>\n",
       "    <tr>\n",
       "      <th>194253</th>\n",
       "      <td>[iPhone, Lightning Charging Cable, Wired Headphones, USB-C Charging Cable]</td>\n",
       "      <td>4</td>\n",
       "    </tr>\n",
       "    <tr>\n",
       "      <th>196615</th>\n",
       "      <td>[Google Phone, USB-C Charging Cable, Bose SoundSport Headphones, Wired Headphones]</td>\n",
       "      <td>4</td>\n",
       "    </tr>\n",
       "    <tr>\n",
       "      <th>212334</th>\n",
       "      <td>[iPhone, Lightning Charging Cable, Apple Airpods Headphones, Wired Headphones]</td>\n",
       "      <td>4</td>\n",
       "    </tr>\n",
       "    <tr>\n",
       "      <th>235798</th>\n",
       "      <td>[Google Phone, USB-C Charging Cable, Wired Headphones, 27in FHD Monitor]</td>\n",
       "      <td>4</td>\n",
       "    </tr>\n",
       "    <tr>\n",
       "      <th>242936</th>\n",
       "      <td>[iPhone, Lightning Charging Cable, Apple Airpods Headphones, Wired Headphones]</td>\n",
       "      <td>4</td>\n",
       "    </tr>\n",
       "    <tr>\n",
       "      <th>263918</th>\n",
       "      <td>[Vareebadd Phone, USB-C Charging Cable, Bose SoundSport Headphones, Wired Headphones]</td>\n",
       "      <td>4</td>\n",
       "    </tr>\n",
       "    <tr>\n",
       "      <th>277875</th>\n",
       "      <td>[Google Phone, USB-C Charging Cable, Wired Headphones, iPhone]</td>\n",
       "      <td>4</td>\n",
       "    </tr>\n",
       "    <tr>\n",
       "      <th>289117</th>\n",
       "      <td>[Vareebadd Phone, USB-C Charging Cable, Bose SoundSport Headphones, Wired Headphones]</td>\n",
       "      <td>4</td>\n",
       "    </tr>\n",
       "    <tr>\n",
       "      <th>295681</th>\n",
       "      <td>[Google Phone, USB-C Charging Cable, Bose SoundSport Headphones, Wired Headphones]</td>\n",
       "      <td>4</td>\n",
       "    </tr>\n",
       "    <tr>\n",
       "      <th>296353</th>\n",
       "      <td>[iPhone, Lightning Charging Cable, Wired Headphones, AA Batteries (4-pack)]</td>\n",
       "      <td>4</td>\n",
       "    </tr>\n",
       "    <tr>\n",
       "      <th>304802</th>\n",
       "      <td>[Google Phone, USB-C Charging Cable, Bose SoundSport Headphones, 34in Ultrawide Monitor]</td>\n",
       "      <td>4</td>\n",
       "    </tr>\n",
       "    <tr>\n",
       "      <th>312407</th>\n",
       "      <td>[Google Phone, USB-C Charging Cable, Wired Headphones, Apple Airpods Headphones]</td>\n",
       "      <td>4</td>\n",
       "    </tr>\n",
       "    <tr>\n",
       "      <th>312462</th>\n",
       "      <td>[iPhone, Lightning Charging Cable, Apple Airpods Headphones, Wired Headphones]</td>\n",
       "      <td>4</td>\n",
       "    </tr>\n",
       "  </tbody>\n",
       "</table></div>"
      ],
      "text/plain": [
       "                                                    Product  \\\n",
       "Order ID                                                      \n",
       "165665    [Google Phone, USB-C Charging Cable, Wired Hea...   \n",
       "193511    [Google Phone, USB-C Charging Cable, Bose Soun...   \n",
       "194253    [iPhone, Lightning Charging Cable, Wired Headp...   \n",
       "196615    [Google Phone, USB-C Charging Cable, Bose Soun...   \n",
       "212334    [iPhone, Lightning Charging Cable, Apple Airpo...   \n",
       "235798    [Google Phone, USB-C Charging Cable, Wired Hea...   \n",
       "242936    [iPhone, Lightning Charging Cable, Apple Airpo...   \n",
       "263918    [Vareebadd Phone, USB-C Charging Cable, Bose S...   \n",
       "277875    [Google Phone, USB-C Charging Cable, Wired Hea...   \n",
       "289117    [Vareebadd Phone, USB-C Charging Cable, Bose S...   \n",
       "295681    [Google Phone, USB-C Charging Cable, Bose Soun...   \n",
       "296353    [iPhone, Lightning Charging Cable, Wired Headp...   \n",
       "304802    [Google Phone, USB-C Charging Cable, Bose Soun...   \n",
       "312407    [Google Phone, USB-C Charging Cable, Wired Hea...   \n",
       "312462    [iPhone, Lightning Charging Cable, Apple Airpo...   \n",
       "\n",
       "          Number of Product Bought  \n",
       "Order ID                            \n",
       "165665                           4  \n",
       "193511                           4  \n",
       "194253                           4  \n",
       "196615                           4  \n",
       "212334                           4  \n",
       "235798                           4  \n",
       "242936                           4  \n",
       "263918                           4  \n",
       "277875                           4  \n",
       "289117                           4  \n",
       "295681                           4  \n",
       "296353                           4  \n",
       "304802                           4  \n",
       "312407                           4  \n",
       "312462                           4  "
      ]
     },
     "execution_count": 129,
     "metadata": {},
     "output_type": "execute_result"
    }
   ],
   "source": [
    "# list of 4 products which bought together\n",
    "\n",
    "bought_product[bought_product['Number of Product Bought'] == 4]\n",
    "\n",
    "# like this we can see 3 and 2 products which sold together"
   ]
  },
  {
   "cell_type": "markdown",
   "id": "c2b0085c",
   "metadata": {},
   "source": [
    "#### What product sold the most? Why do you think it sold the most?"
   ]
  },
  {
   "cell_type": "code",
   "execution_count": 139,
   "id": "7696a8fc",
   "metadata": {},
   "outputs": [
    {
     "data": {
      "text/plain": [
       "Product\n",
       "USB-C Charging Cable          21903\n",
       "Lightning Charging Cable      21658\n",
       "AAA Batteries (4-pack)        20641\n",
       "AA Batteries (4-pack)         20577\n",
       "Wired Headphones              18882\n",
       "Apple Airpods Headphones      15549\n",
       "Bose SoundSport Headphones    13325\n",
       "27in FHD Monitor               7507\n",
       "iPhone                         6842\n",
       "27in 4K Gaming Monitor         6230\n",
       "34in Ultrawide Monitor         6181\n",
       "Google Phone                   5525\n",
       "Flatscreen TV                  4800\n",
       "Macbook Pro Laptop             4724\n",
       "ThinkPad Laptop                4128\n",
       "20in Monitor                   4101\n",
       "Vareebadd Phone                2065\n",
       "LG Washing Machine              666\n",
       "LG Dryer                        646\n",
       "Name: Order ID, dtype: int64"
      ]
     },
     "execution_count": 139,
     "metadata": {},
     "output_type": "execute_result"
    }
   ],
   "source": [
    "Quantity_of_sold_product= df_amazon_2.groupby('Product')['Order ID'].count()\n",
    "Quantity_of_sold_product.sort_values(ascending= False)"
   ]
  },
  {
   "cell_type": "code",
   "execution_count": 140,
   "id": "1609fa2c",
   "metadata": {},
   "outputs": [
    {
     "data": {
      "image/png": "[encoded data removed]",
      "text/plain": [
       "<Figure size 720x432 with 1 Axes>"
      ]
     },
     "metadata": {
      "needs_background": "light"
     },
     "output_type": "display_data"
    }
   ],
   "source": [
    "# checking it through visualisation\n",
    "\n",
    "Quantity_of_sold_product.plot(kind= 'bar', figsize= (10, 6))\n",
    "plt.show()"
   ]
  },
  {
   "cell_type": "markdown",
   "id": "fcdcf6ba",
   "metadata": {},
   "source": [
    "According to this, the most sold products are 'USB-C Charging Cable', 'Lightning Charging Cable', 'AAA Batteries (4-pack)', 'AA Batteries (4-pack)'\n",
    "\n",
    "These products are most general purposed and come in resonable price. This could be the reason that these products are best sold."
   ]
  },
  {
   "cell_type": "markdown",
   "id": "8729bc48",
   "metadata": {},
   "source": [
    "### Finding some probablilty based on the results of 'Quantity_of_sold_product'"
   ]
  },
  {
   "cell_type": "markdown",
   "id": "0ecd55e4",
   "metadata": {},
   "source": [
    "#### Probability(Event) = Favorable Outcomes/Total Outcomes = x/n"
   ]
  },
  {
   "cell_type": "markdown",
   "id": "f32ea598",
   "metadata": {},
   "source": [
    "1 -> So How much probability for next people will ordered USB-C Charging Cable?"
   ]
  },
  {
   "cell_type": "code",
   "execution_count": 155,
   "id": "c50ccd4d",
   "metadata": {},
   "outputs": [
    {
     "data": {
      "text/plain": [
       "0.12"
      ]
     },
     "execution_count": 155,
     "metadata": {},
     "output_type": "execute_result"
    }
   ],
   "source": [
    "round(Quantity_of_sold_product['USB-C Charging Cable'] / Quantity_of_sold_product.sum(), 2)\n",
    "\n",
    "# So the probability is 0.12"
   ]
  },
  {
   "cell_type": "markdown",
   "id": "8acc7261",
   "metadata": {},
   "source": [
    "2 -> How much probability for next people will ordered iPhone?"
   ]
  },
  {
   "cell_type": "code",
   "execution_count": 156,
   "id": "6210d606",
   "metadata": {},
   "outputs": [
    {
     "data": {
      "text/plain": [
       "0.04"
      ]
     },
     "execution_count": 156,
     "metadata": {},
     "output_type": "execute_result"
    }
   ],
   "source": [
    "round(Quantity_of_sold_product['iPhone'] / Quantity_of_sold_product.sum(), 2)\n",
    "\n",
    "# so the probability is 0.04"
   ]
  },
  {
   "cell_type": "markdown",
   "id": "24ba51eb",
   "metadata": {},
   "source": [
    "3 -> How much probability for next people will ordered Google Phone?"
   ]
  },
  {
   "cell_type": "code",
   "execution_count": 158,
   "id": "2db4cb3c",
   "metadata": {},
   "outputs": [
    {
     "data": {
      "text/plain": [
       "0.03"
      ]
     },
     "execution_count": 158,
     "metadata": {},
     "output_type": "execute_result"
    }
   ],
   "source": [
    "round(Quantity_of_sold_product['Google Phone'] / Quantity_of_sold_product.sum(), 2)\n",
    "\n",
    "# the probability is 0.03"
   ]
  },
  {
   "cell_type": "markdown",
   "id": "a96edb81",
   "metadata": {},
   "source": [
    "4 -> How much probability other peoples will ordered Wired Headphones?"
   ]
  },
  {
   "cell_type": "code",
   "execution_count": 162,
   "id": "8f5eb1c2",
   "metadata": {},
   "outputs": [
    {
     "data": {
      "text/plain": [
       "0.1"
      ]
     },
     "execution_count": 162,
     "metadata": {},
     "output_type": "execute_result"
    }
   ],
   "source": [
    "round(Quantity_of_sold_product['Wired Headphones'] / Quantity_of_sold_product.sum(), 2)\n",
    "\n",
    "# the probability is 0.01"
   ]
  }
 ],
 "metadata": {
  "kernelspec": {
   "display_name": "Python 3 (ipykernel)",
   "language": "python",
   "name": "python3"
  },
  "language_info": {
   "codemirror_mode": {
    "name": "ipython",
    "version": 3
   },
   "file_extension": ".py",
   "mimetype": "text/x-python",
   "name": "python",
   "nbconvert_exporter": "python",
   "pygments_lexer": "ipython3",
   "version": "3.8.12"
  }
 },
 "nbformat": 4,
 "nbformat_minor": 5
}
